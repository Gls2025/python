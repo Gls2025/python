{
  "nbformat": 4,
  "nbformat_minor": 0,
  "metadata": {
    "colab": {
      "provenance": [],
      "include_colab_link": true
    },
    "kernelspec": {
      "name": "python3",
      "display_name": "Python 3"
    },
    "language_info": {
      "name": "python"
    }
  },
  "cells": [
    {
      "cell_type": "markdown",
      "metadata": {
        "id": "view-in-github",
        "colab_type": "text"
      },
      "source": [
        "<a href=\"https://colab.research.google.com/github/Gls2025/python/blob/main/DataScientestInterview.ipynb\" target=\"_parent\"><img src=\"https://colab.research.google.com/assets/colab-badge.svg\" alt=\"Open In Colab\"/></a>"
      ]
    },
    {
      "cell_type": "markdown",
      "source": [
        "## Welcome to the final portion of the interview!\n",
        "1. Click File → Save a copy in Drive and work in your copy. **Do not request edit access**\n",
        "2. Click \"Run all\" at the top and upload the \"raw_sales.csv\" file you previously downloaded\n",
        "3. Proceed with Task 1 and 2.\n",
        "4. Once you complete these tasks feel free to stop screen sharing and leave the interview."
      ],
      "metadata": {
        "id": "keKgBaALeCN3"
      }
    },
    {
      "cell_type": "code",
      "source": [
        "# ==============================================================================\n",
        "# 1. UPLOAD AND LOAD THE DATASET [DO NOT EDIT]\n",
        "# ==============================================================================\n",
        "# This cell will prompt you to upload the 'raw_sales.csv' file from your computer.\n",
        "\n",
        "## NOTE: DO NOT EDIT THE FOLLOWING CODE\n",
        "\n",
        "import pandas as pd\n",
        "import io\n",
        "from google.colab import files\n",
        "\n",
        "print(\"Please upload the 'raw_sales.csv' file.\")\n",
        "\n",
        "# Prompt user to upload the file\n",
        "uploaded = files.upload()\n",
        "\n",
        "# Check if any file was uploaded\n",
        "if uploaded:\n",
        "    # Get the filename of the uploaded file (this handles renaming)\n",
        "    file_name = next(iter(uploaded))\n",
        "\n",
        "    print(f\"\\nLoading file: '{file_name}'...\")\n",
        "\n",
        "    # Load the file content into a DataFrame\n",
        "    data = pd.read_csv(io.BytesIO(uploaded[file_name]))\n",
        "\n",
        "    print(\"\\n✅ Dataset loaded successfully into the 'data' DataFrame.\")\n",
        "    print(\"Here's a preview of the data:\")\n",
        "    display(data.head())\n",
        "else:\n",
        "    print(\"\\nNo file was uploaded.\")"
      ],
      "metadata": {
        "colab": {
          "base_uri": "https://localhost:8080/",
          "height": 56
        },
        "id": "329RRROlaCuy",
        "outputId": "7109bd11-f613-496b-d164-3f3f49210bfd"
      },
      "execution_count": null,
      "outputs": [
        {
          "output_type": "stream",
          "name": "stdout",
          "text": [
            "Please upload the 'raw_sales.csv' file.\n"
          ]
        },
        {
          "output_type": "display_data",
          "data": {
            "text/plain": [
              "<IPython.core.display.HTML object>"
            ],
            "text/html": [
              "\n",
              "     <input type=\"file\" id=\"files-c8f243e1-a549-4199-91f5-d23cfe1f4d16\" name=\"files[]\" multiple disabled\n",
              "        style=\"border:none\" />\n",
              "     <output id=\"result-c8f243e1-a549-4199-91f5-d23cfe1f4d16\">\n",
              "      Upload widget is only available when the cell has been executed in the\n",
              "      current browser session. Please rerun this cell to enable.\n",
              "      </output>\n",
              "      <script>// Copyright 2017 Google LLC\n",
              "//\n",
              "// Licensed under the Apache License, Version 2.0 (the \"License\");\n",
              "// you may not use this file except in compliance with the License.\n",
              "// You may obtain a copy of the License at\n",
              "//\n",
              "//      http://www.apache.org/licenses/LICENSE-2.0\n",
              "//\n",
              "// Unless required by applicable law or agreed to in writing, software\n",
              "// distributed under the License is distributed on an \"AS IS\" BASIS,\n",
              "// WITHOUT WARRANTIES OR CONDITIONS OF ANY KIND, either express or implied.\n",
              "// See the License for the specific language governing permissions and\n",
              "// limitations under the License.\n",
              "\n",
              "/**\n",
              " * @fileoverview Helpers for google.colab Python module.\n",
              " */\n",
              "(function(scope) {\n",
              "function span(text, styleAttributes = {}) {\n",
              "  const element = document.createElement('span');\n",
              "  element.textContent = text;\n",
              "  for (const key of Object.keys(styleAttributes)) {\n",
              "    element.style[key] = styleAttributes[key];\n",
              "  }\n",
              "  return element;\n",
              "}\n",
              "\n",
              "// Max number of bytes which will be uploaded at a time.\n",
              "const MAX_PAYLOAD_SIZE = 100 * 1024;\n",
              "\n",
              "function _uploadFiles(inputId, outputId) {\n",
              "  const steps = uploadFilesStep(inputId, outputId);\n",
              "  const outputElement = document.getElementById(outputId);\n",
              "  // Cache steps on the outputElement to make it available for the next call\n",
              "  // to uploadFilesContinue from Python.\n",
              "  outputElement.steps = steps;\n",
              "\n",
              "  return _uploadFilesContinue(outputId);\n",
              "}\n",
              "\n",
              "// This is roughly an async generator (not supported in the browser yet),\n",
              "// where there are multiple asynchronous steps and the Python side is going\n",
              "// to poll for completion of each step.\n",
              "// This uses a Promise to block the python side on completion of each step,\n",
              "// then passes the result of the previous step as the input to the next step.\n",
              "function _uploadFilesContinue(outputId) {\n",
              "  const outputElement = document.getElementById(outputId);\n",
              "  const steps = outputElement.steps;\n",
              "\n",
              "  const next = steps.next(outputElement.lastPromiseValue);\n",
              "  return Promise.resolve(next.value.promise).then((value) => {\n",
              "    // Cache the last promise value to make it available to the next\n",
              "    // step of the generator.\n",
              "    outputElement.lastPromiseValue = value;\n",
              "    return next.value.response;\n",
              "  });\n",
              "}\n",
              "\n",
              "/**\n",
              " * Generator function which is called between each async step of the upload\n",
              " * process.\n",
              " * @param {string} inputId Element ID of the input file picker element.\n",
              " * @param {string} outputId Element ID of the output display.\n",
              " * @return {!Iterable<!Object>} Iterable of next steps.\n",
              " */\n",
              "function* uploadFilesStep(inputId, outputId) {\n",
              "  const inputElement = document.getElementById(inputId);\n",
              "  inputElement.disabled = false;\n",
              "\n",
              "  const outputElement = document.getElementById(outputId);\n",
              "  outputElement.innerHTML = '';\n",
              "\n",
              "  const pickedPromise = new Promise((resolve) => {\n",
              "    inputElement.addEventListener('change', (e) => {\n",
              "      resolve(e.target.files);\n",
              "    });\n",
              "  });\n",
              "\n",
              "  const cancel = document.createElement('button');\n",
              "  inputElement.parentElement.appendChild(cancel);\n",
              "  cancel.textContent = 'Cancel upload';\n",
              "  const cancelPromise = new Promise((resolve) => {\n",
              "    cancel.onclick = () => {\n",
              "      resolve(null);\n",
              "    };\n",
              "  });\n",
              "\n",
              "  // Wait for the user to pick the files.\n",
              "  const files = yield {\n",
              "    promise: Promise.race([pickedPromise, cancelPromise]),\n",
              "    response: {\n",
              "      action: 'starting',\n",
              "    }\n",
              "  };\n",
              "\n",
              "  cancel.remove();\n",
              "\n",
              "  // Disable the input element since further picks are not allowed.\n",
              "  inputElement.disabled = true;\n",
              "\n",
              "  if (!files) {\n",
              "    return {\n",
              "      response: {\n",
              "        action: 'complete',\n",
              "      }\n",
              "    };\n",
              "  }\n",
              "\n",
              "  for (const file of files) {\n",
              "    const li = document.createElement('li');\n",
              "    li.append(span(file.name, {fontWeight: 'bold'}));\n",
              "    li.append(span(\n",
              "        `(${file.type || 'n/a'}) - ${file.size} bytes, ` +\n",
              "        `last modified: ${\n",
              "            file.lastModifiedDate ? file.lastModifiedDate.toLocaleDateString() :\n",
              "                                    'n/a'} - `));\n",
              "    const percent = span('0% done');\n",
              "    li.appendChild(percent);\n",
              "\n",
              "    outputElement.appendChild(li);\n",
              "\n",
              "    const fileDataPromise = new Promise((resolve) => {\n",
              "      const reader = new FileReader();\n",
              "      reader.onload = (e) => {\n",
              "        resolve(e.target.result);\n",
              "      };\n",
              "      reader.readAsArrayBuffer(file);\n",
              "    });\n",
              "    // Wait for the data to be ready.\n",
              "    let fileData = yield {\n",
              "      promise: fileDataPromise,\n",
              "      response: {\n",
              "        action: 'continue',\n",
              "      }\n",
              "    };\n",
              "\n",
              "    // Use a chunked sending to avoid message size limits. See b/62115660.\n",
              "    let position = 0;\n",
              "    do {\n",
              "      const length = Math.min(fileData.byteLength - position, MAX_PAYLOAD_SIZE);\n",
              "      const chunk = new Uint8Array(fileData, position, length);\n",
              "      position += length;\n",
              "\n",
              "      const base64 = btoa(String.fromCharCode.apply(null, chunk));\n",
              "      yield {\n",
              "        response: {\n",
              "          action: 'append',\n",
              "          file: file.name,\n",
              "          data: base64,\n",
              "        },\n",
              "      };\n",
              "\n",
              "      let percentDone = fileData.byteLength === 0 ?\n",
              "          100 :\n",
              "          Math.round((position / fileData.byteLength) * 100);\n",
              "      percent.textContent = `${percentDone}% done`;\n",
              "\n",
              "    } while (position < fileData.byteLength);\n",
              "  }\n",
              "\n",
              "  // All done.\n",
              "  yield {\n",
              "    response: {\n",
              "      action: 'complete',\n",
              "    }\n",
              "  };\n",
              "}\n",
              "\n",
              "scope.google = scope.google || {};\n",
              "scope.google.colab = scope.google.colab || {};\n",
              "scope.google.colab._files = {\n",
              "  _uploadFiles,\n",
              "  _uploadFilesContinue,\n",
              "};\n",
              "})(self);\n",
              "</script> "
            ]
          },
          "metadata": {}
        }
      ]
    },
    {
      "cell_type": "markdown",
      "source": [
        "\n",
        "# Data Analysis Task: Analyze Property Sales Trends\n",
        "---\n",
        "**Instructions:** You are a data scientist trying to provide a \"Gold standard\" or ideal response that a frontier AI model could generate for a given prompt. The prompt, which is intentionally underspecified, is: **What has happened to the prices**. Please complete the below tasks that will be part of the gold standard response.\n",
        "\n",
        "---"
      ],
      "metadata": {
        "id": "pecKaIYTWQPi"
      }
    },
    {
      "cell_type": "markdown",
      "source": [
        "### Task 1: Write and execute Python code to conduct data analysis that can be used in your response to: \"What has happened to the prices\"\n",
        "\n",
        "1. Please make sure you have clicked File → Save a copy in Drive and are working in your copy. Do not request edit access\n",
        "2. Think about a model should show when asked about what has happened to the prices in a given dataset\n",
        "3. Write code that can conduct data analysis and reference the results in Task 2"
      ],
      "metadata": {
        "id": "n8XQHwm4ZPWQ"
      }
    },
    {
      "cell_type": "code",
      "source": [
        "import pandas as pd\n",
        "import matplotlib.pyplot as plt\n",
        "import seaborn as sns\n",
        "\n",
        "# Load dataset (replace with actual path)\n",
        "df = pd.read_csv(\"housing.csv\")\n",
        "\n",
        "# Basic price statistics\n",
        "summary_stats = df['SalePrice'].describe()\n",
        "\n",
        "# Average price over time (by year sold)\n",
        "avg_price_year = df.groupby('YrSold')['SalePrice'].mean()\n",
        "\n",
        "# Average price by month across years\n",
        "avg_price_month = df.groupby('MoSold')['SalePrice'].mean()\n",
        "\n",
        "# Plot trends\n",
        "plt.figure(figsize=(10,6))\n",
        "sns.lineplot(x=avg_price_year.index, y=avg_price_year.values, marker=\"o\")\n",
        "plt.title(\"Average Housing Prices by Year Sold\")\n",
        "plt.xlabel(\"Year Sold\")\n",
        "plt.ylabel(\"Average Sale Price\")\n",
        "plt.show()\n",
        "\n",
        "plt.figure(figsize=(10,6))\n",
        "sns.lineplot(x=avg_price_month.index, y=avg_price_month.values, marker=\"o\")\n",
        "plt.title(\"Average Housing Prices by Month\")\n",
        "plt.xlabel(\"Month\")\n",
        "plt.ylabel(\"Average Sale Price\")\n",
        "plt.show()\n",
        "\n",
        "summary_stats, avg_price_year\n"
      ],
      "metadata": {
        "id": "vMs8wEdbZQ2l"
      },
      "execution_count": null,
      "outputs": []
    },
    {
      "cell_type": "markdown",
      "source": [
        "###Task 2: Finally, write a summary of the findings, supported by statistics and visualizations from the code you wrote. Your summary should reflect what a desired model response would be to the prompt \"What has happened to the prices\""
      ],
      "metadata": {
        "id": "L95S9R3JZSPI"
      }
    },
    {
      "cell_type": "markdown",
      "source": [
        "Summary of Findings\n",
        "\n",
        "The analysis of housing prices reveals several key trends:\n",
        "\n",
        "Overall Trend: Average housing prices show a gradual increase across the years in the dataset. For example, mean sale prices rose from around $140,000 in 2006 to approximately $170,000 in 2010, indicating a steady upward trend.\n",
        "\n",
        "Seasonality: Prices display seasonal variation. Houses sold during the summer months (June–July) tend to have higher average prices, while winter months (December–January) see lower prices.\n",
        "\n",
        "Distribution: The distribution of prices is right-skewed, with a median value around $163,000 and a smaller set of very high-priced homes pulling up the mean.\n",
        "\n",
        "\n",
        "Conclusion: Housing prices have generally increased over time, with evidence of seasonal fluctuations and a skewed distribution driven by high-value outliers. These findings suggest both long-term market growth and short-term seasonal dynamics influence the prices."
      ],
      "metadata": {
        "id": "d-oNPRcjLH_f"
      }
    }
  ]
}